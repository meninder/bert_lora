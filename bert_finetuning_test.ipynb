{
 "cells": [
  {
   "cell_type": "code",
   "execution_count": null,
   "metadata": {},
   "outputs": [],
   "source": [
    "%load_ext autoreload\n",
    "%autoreload 2"
   ]
  },
  {
   "cell_type": "code",
   "execution_count": null,
   "metadata": {},
   "outputs": [],
   "source": [
    "from dotenv import load_dotenv\n",
    "load_dotenv('.env')\n",
    "from src.helper_fn import get_trainer, train_save_evaluate, get_model_for_training"
   ]
  },
  {
   "cell_type": "markdown",
   "metadata": {},
   "source": [
    "## Run Loop"
   ]
  },
  {
   "cell_type": "code",
   "execution_count": null,
   "metadata": {},
   "outputs": [],
   "source": [
    "results = {}\n",
    "fine_tuning_names = ['none', 'classifier', 'top', 'top2', 'lora','full' ]\n",
    "for fine_tuning_name in fine_tuning_names:\n",
    "    output_dir = f'full_run/{fine_tuning_name}'\n",
    "    trainer, model = get_trainer(\n",
    "        fine_tuning_name=fine_tuning_name, \n",
    "        output_dir=output_dir,\n",
    "        cap_rows_train=10_000,\n",
    "        cap_rows_test=2_000,\n",
    "        batch_size=16,\n",
    "        epochs=2,\n",
    "        device='mps'\n",
    "    )\n",
    "    result = train_save_evaluate(trainer, fine_tuning_name, output_dir, model)\n",
    "    print(result)\n",
    "    results[output_dir] = result"
   ]
  },
  {
   "cell_type": "code",
   "execution_count": null,
   "metadata": {},
   "outputs": [],
   "source": []
  }
 ],
 "metadata": {
  "kernelspec": {
   "display_name": "hf2",
   "language": "python",
   "name": "hf2"
  },
  "language_info": {
   "codemirror_mode": {
    "name": "ipython",
    "version": 3
   },
   "file_extension": ".py",
   "mimetype": "text/x-python",
   "name": "python",
   "nbconvert_exporter": "python",
   "pygments_lexer": "ipython3",
   "version": "3.11.5"
  },
  "orig_nbformat": 4
 },
 "nbformat": 4,
 "nbformat_minor": 2
}
